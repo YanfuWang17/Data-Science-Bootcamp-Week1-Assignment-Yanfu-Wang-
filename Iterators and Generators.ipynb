{
 "cells": [
  {
   "cell_type": "code",
   "execution_count": 1,
   "id": "df97ca3d",
   "metadata": {},
   "outputs": [
    {
     "name": "stdout",
     "output_type": "stream",
     "text": [
      "0 1\n"
     ]
    }
   ],
   "source": [
    "# Generators\n",
    "def my_range(start, stop, step):\n",
    "    curr = start\n",
    "    while curr<stop:\n",
    "        yield curr\n",
    "        curr += step\n",
    "\n",
    "g = my_range(0,10,1)\n",
    "print(next(g), next(g))"
   ]
  },
  {
   "cell_type": "code",
   "execution_count": null,
   "id": "035ef326",
   "metadata": {},
   "outputs": [
    {
     "name": "stdout",
     "output_type": "stream",
     "text": [
      "1\n",
      "2\n",
      "3\n",
      "4\n",
      "5\n"
     ]
    }
   ],
   "source": [
    "# Iterators\n",
    "lst = [1,2,3,4,5]\n",
    "lst_iter = iter(lst)\n",
    "end = False\n",
    "while end == False:\n",
    "    try:\n",
    "        item = next(lst_iter)\n",
    "        print(item)\n",
    "    except StopIteration:\n",
    "        end == True"
   ]
  },
  {
   "cell_type": "code",
   "execution_count": null,
   "id": "d9065e2b",
   "metadata": {},
   "outputs": [],
   "source": []
  }
 ],
 "metadata": {
  "kernelspec": {
   "display_name": "Python 3 (ipykernel)",
   "language": "python",
   "name": "python3"
  },
  "language_info": {
   "codemirror_mode": {
    "name": "ipython",
    "version": 3
   },
   "file_extension": ".py",
   "mimetype": "text/x-python",
   "name": "python",
   "nbconvert_exporter": "python",
   "pygments_lexer": "ipython3",
   "version": "3.9.13"
  }
 },
 "nbformat": 4,
 "nbformat_minor": 5
}
